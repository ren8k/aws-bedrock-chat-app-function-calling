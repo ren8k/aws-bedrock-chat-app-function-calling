{
 "cells": [
  {
   "cell_type": "markdown",
   "metadata": {},
   "source": [
    "## 会話"
   ]
  },
  {
   "cell_type": "code",
   "execution_count": 11,
   "metadata": {},
   "outputs": [
    {
     "name": "stderr",
     "output_type": "stream",
     "text": [
      "INFO:__main__:Generating message with model anthropic.claude-3-haiku-20240307-v1:0\n"
     ]
    },
    {
     "name": "stdout",
     "output_type": "stream",
     "text": [
      "Role: assistant\n",
      "Text: 高インフレは消費や投資を抑制し、経済成長を阻害する。財政・金融政策が重要となる。\n",
      "Input tokens:  60\n",
      "Output tokens:  43\n",
      "Total tokens:  103\n",
      "Stop reason: end_turn\n",
      "Finished generating text with model anthropic.claude-3-haiku-20240307-v1:0.\n"
     ]
    }
   ],
   "source": [
    "# Copyright Amazon.com, Inc. or its affiliates. All Rights Reserved.\n",
    "# SPDX-License-Identifier: Apache-2.0\n",
    "\"\"\"\n",
    "Shows how to use the Conversation API with Anthropic Claude 3 Sonnet (on demand).\n",
    "\"\"\"\n",
    "\n",
    "import logging\n",
    "import boto3\n",
    "\n",
    "\n",
    "from botocore.exceptions import ClientError\n",
    "\n",
    "\n",
    "logger = logging.getLogger(__name__)\n",
    "logging.basicConfig(level=logging.INFO)\n",
    "\n",
    "\n",
    "def generate_conversation(bedrock_client,\n",
    "                     model_id,\n",
    "                     system_text,\n",
    "                     input_text):\n",
    "    \"\"\"\n",
    "    Sends a message to a model.\n",
    "    Args:\n",
    "        bedrock_client: The Boto3 Bedrock runtime client.\n",
    "        model_id (str): The model ID to use.\n",
    "        system_text (JSON) : The system prompt.\n",
    "        input text : The input message.\n",
    "\n",
    "    Returns:\n",
    "        response (JSON): The conversation that the model generated.\n",
    "\n",
    "    \"\"\"\n",
    "\n",
    "    logger.info(\"Generating message with model %s\", model_id)\n",
    "\n",
    "    # Message to send.\n",
    "    message = {\n",
    "        \"role\": \"user\",\n",
    "        \"content\": [{\"text\": input_text}]\n",
    "    }\n",
    "    messages = [message]\n",
    "    system_prompts = [{\"text\" : system_text}]\n",
    "\n",
    "    # Inference parameters to use.\n",
    "    temperature = 0.5\n",
    "    top_k = 200\n",
    "\n",
    "    #Base inference parameters to use.\n",
    "    inference_config = {\"temperature\": temperature}\n",
    "    # Additional inference parameters to use.\n",
    "    additional_model_fields = {\"top_k\": top_k}\n",
    "\n",
    "    # Send the message.\n",
    "    response = bedrock_client.converse(\n",
    "        modelId=model_id,\n",
    "        messages=messages,\n",
    "        system=system_prompts,\n",
    "        inferenceConfig=inference_config,\n",
    "        additionalModelRequestFields=additional_model_fields\n",
    "    )\n",
    "\n",
    "    return response\n",
    "\n",
    "\n",
    "\n",
    "\"\"\"\n",
    "Entrypoint for Anthropic Claude 3 Sonnet example.\n",
    "\"\"\"\n",
    "\n",
    "logging.basicConfig(level=logging.INFO,\n",
    "                    format=\"%(levelname)s: %(message)s\")\n",
    "\n",
    "model_id = \"anthropic.claude-3-haiku-20240307-v1:0\"\n",
    "system_text = \"あなたは大量のデータにアクセスできる日本人のエコノミストです。\"\n",
    "input_text = \"高インフレが国のGDPに与える影響について1000文字で書いてください。\"\n",
    "\n",
    "try:\n",
    "\n",
    "    bedrock_client = boto3.client(service_name='bedrock-runtime', region_name='us-west-2')\n",
    "\n",
    "    response = generate_conversation(\n",
    "        bedrock_client, model_id, system_text, input_text)\n",
    "\n",
    "    output_message = response['output']['message']\n",
    "\n",
    "    print(f\"Role: {output_message['role']}\")\n",
    "\n",
    "    for content in output_message['content']:\n",
    "        print(f\"Text: {content['text']}\")\n",
    "\n",
    "    token_usage = response['usage']\n",
    "    print(f\"Input tokens:  {token_usage['inputTokens']}\")\n",
    "    print(f\"Output tokens:  {token_usage['outputTokens']}\")\n",
    "    print(f\"Total tokens:  {token_usage['totalTokens']}\")\n",
    "    print(f\"Stop reason: {response['stopReason']}\")\n",
    "\n",
    "except ClientError as err:\n",
    "    message = err.response['Error']['Message']\n",
    "    logger.error(\"A client error occurred: %s\", message)\n",
    "    print(f\"A client error occured: {message}\")\n",
    "\n",
    "else:\n",
    "    print(\n",
    "        f\"Finished generating text with model {model_id}.\")\n"
   ]
  },
  {
   "cell_type": "code",
   "execution_count": 12,
   "metadata": {},
   "outputs": [
    {
     "name": "stdout",
     "output_type": "stream",
     "text": [
      "{'ResponseMetadata': {'HTTPHeaders': {'connection': 'keep-alive',\n",
      "                                      'content-length': '302',\n",
      "                                      'content-type': 'application/json',\n",
      "                                      'date': 'Thu, 30 May 2024 23:55:50 GMT',\n",
      "                                      'x-amzn-requestid': 'ccf5b55e-1ea3-4c2f-af02-aefdb33c678e'},\n",
      "                      'HTTPStatusCode': 200,\n",
      "                      'RequestId': 'ccf5b55e-1ea3-4c2f-af02-aefdb33c678e',\n",
      "                      'RetryAttempts': 0},\n",
      " 'metrics': {'latencyMs': 995},\n",
      " 'output': {'message': {'content': [{'text': '高インフレは消費や投資を抑制し、経済成長を阻害する。財政・金融政策が重要となる。'}],\n",
      "                        'role': 'assistant'}},\n",
      " 'stopReason': 'end_turn',\n",
      " 'usage': {'inputTokens': 60, 'outputTokens': 43, 'totalTokens': 103}}\n"
     ]
    }
   ],
   "source": [
    "from pprint import pprint\n",
    "pprint(response)"
   ]
  },
  {
   "cell_type": "code",
   "execution_count": null,
   "metadata": {},
   "outputs": [],
   "source": [
    "new_user_input = {\n",
    "    \"role\": \"user\",\n",
    "    \"content\": [{\"text\": \"具体例を教えてください。\"}]\n",
    "}"
   ]
  },
  {
   "cell_type": "code",
   "execution_count": null,
   "metadata": {},
   "outputs": [],
   "source": []
  },
  {
   "cell_type": "code",
   "execution_count": 5,
   "metadata": {},
   "outputs": [
    {
     "name": "stdout",
     "output_type": "stream",
     "text": [
      "boto3                                    1.34.116\n"
     ]
    }
   ],
   "source": [
    "!pip list | grep boto3"
   ]
  },
  {
   "cell_type": "code",
   "execution_count": 2,
   "metadata": {},
   "outputs": [
    {
     "name": "stdout",
     "output_type": "stream",
     "text": [
      "Requirement already satisfied: boto3 in /home/renya/anaconda3/lib/python3.9/site-packages (1.34.94)\n",
      "Collecting boto3\n",
      "  Downloading boto3-1.34.116-py3-none-any.whl.metadata (6.6 kB)\n",
      "Collecting botocore<1.35.0,>=1.34.116 (from boto3)\n",
      "  Downloading botocore-1.34.116-py3-none-any.whl.metadata (5.7 kB)\n",
      "Requirement already satisfied: jmespath<2.0.0,>=0.7.1 in /home/renya/anaconda3/lib/python3.9/site-packages (from boto3) (1.0.1)\n",
      "Requirement already satisfied: s3transfer<0.11.0,>=0.10.0 in /home/renya/anaconda3/lib/python3.9/site-packages (from boto3) (0.10.1)\n",
      "Requirement already satisfied: python-dateutil<3.0.0,>=2.1 in /home/renya/anaconda3/lib/python3.9/site-packages (from botocore<1.35.0,>=1.34.116->boto3) (2.9.0.post0)\n",
      "Requirement already satisfied: urllib3<1.27,>=1.25.4 in /home/renya/anaconda3/lib/python3.9/site-packages (from botocore<1.35.0,>=1.34.116->boto3) (1.26.18)\n",
      "Requirement already satisfied: six>=1.5 in /home/renya/anaconda3/lib/python3.9/site-packages (from python-dateutil<3.0.0,>=2.1->botocore<1.35.0,>=1.34.116->boto3) (1.16.0)\n",
      "Downloading boto3-1.34.116-py3-none-any.whl (139 kB)\n",
      "\u001b[2K   \u001b[38;2;114;156;31m━━━━━━━━━━━━━━━━━━━━━━━━━━━━━━━━━━━━━━━━\u001b[0m \u001b[32m139.3/139.3 kB\u001b[0m \u001b[31m8.6 MB/s\u001b[0m eta \u001b[36m0:00:00\u001b[0m\n",
      "\u001b[?25hDownloading botocore-1.34.116-py3-none-any.whl (12.3 MB)\n",
      "\u001b[2K   \u001b[38;2;114;156;31m━━━━━━━━━━━━━━━━━━━━━━━━━━━━━━━━━━━━━━━━\u001b[0m \u001b[32m12.3/12.3 MB\u001b[0m \u001b[31m26.2 MB/s\u001b[0m eta \u001b[36m0:00:00\u001b[0mm eta \u001b[36m0:00:01\u001b[0m[36m0:00:01\u001b[0m\n",
      "\u001b[?25hInstalling collected packages: botocore, boto3\n",
      "  Attempting uninstall: botocore\n",
      "    Found existing installation: botocore 1.34.94\n",
      "    Uninstalling botocore-1.34.94:\n",
      "      Successfully uninstalled botocore-1.34.94\n",
      "  Attempting uninstall: boto3\n",
      "    Found existing installation: boto3 1.34.94\n",
      "    Uninstalling boto3-1.34.94:\n",
      "      Successfully uninstalled boto3-1.34.94\n",
      "\u001b[31mERROR: pip's dependency resolver does not currently take into account all the packages that are installed. This behaviour is the source of the following dependency conflicts.\n",
      "awscli 1.32.93 requires botocore==1.34.93, but you have botocore 1.34.116 which is incompatible.\u001b[0m\u001b[31m\n",
      "\u001b[0mSuccessfully installed boto3-1.34.116 botocore-1.34.116\n"
     ]
    }
   ],
   "source": [
    "!pip install -U boto3"
   ]
  },
  {
   "cell_type": "code",
   "execution_count": null,
   "metadata": {},
   "outputs": [],
   "source": [
    "pip install \"boto3>=1.34.116\""
   ]
  },
  {
   "cell_type": "code",
   "execution_count": null,
   "metadata": {},
   "outputs": [],
   "source": []
  },
  {
   "cell_type": "code",
   "execution_count": null,
   "metadata": {},
   "outputs": [],
   "source": [
    "https://aws.amazon.com/jp/about-aws/whats-new/2024/05/amazon-bedrock-new-converse-api/\n"
   ]
  },
  {
   "cell_type": "code",
   "execution_count": null,
   "metadata": {},
   "outputs": [],
   "source": []
  },
  {
   "cell_type": "code",
   "execution_count": 14,
   "metadata": {},
   "outputs": [
    {
     "name": "stdout",
     "output_type": "stream",
     "text": [
      " Here is a simple explanation of black holes for 8th graders:\n",
      "\n",
      "- A black hole is a region in space where gravity is so strong that nothing can escape from it, even light. This region is called the \"event horizon.\"\n",
      "\n",
      "- Black holes form when very massive stars collapse. When the star runs out of nuclear fuel, gravity makes it collapse. The matter gets compressed into a very small space, creating a black hole. \n",
      "\n",
      "- Black holes are called \"black\" because they absorb all the light that hits them. They don't reflect or emit any light that we can detect. So they appear completely black.\n",
      "\n",
      "- The gravitational pull of black holes is so strong because matter has been compressed into a tiny space. All of that mass gets concentrated into a single point called the \"singularity.\" \n",
      "\n",
      "- Not even light can escape a black hole once it crosses the event horizon. The gravity is so intense that the escape velocity is faster than the speed of light!\n",
      "\n",
      "- Black holes warp space and time around them. They bend light and time due to their strong gravity. This causes bizarre effects like time dilation.\n",
      "\n",
      "- We can detect black holes when they suck in matter from neighboring stars and gas clouds. This material heats up and emits X-rays that we can observe with telescopes.\n",
      "\n",
      "- Supermassive black holes are thought to exist at the center of most galaxies, including our own Milky Way galaxy.\n"
     ]
    }
   ],
   "source": [
    "import boto3\n",
    "import json\n",
    "brt = boto3.client(service_name='bedrock-runtime', region_name='us-west-2')\n",
    "\n",
    "body = json.dumps({\n",
    "    \"prompt\": \"\\n\\nHuman: explain black holes to 8th graders\\n\\nAssistant:\",\n",
    "    \"max_tokens_to_sample\": 300,\n",
    "    \"temperature\": 0.1,\n",
    "    \"top_p\": 0.9,\n",
    "})\n",
    "\n",
    "modelId = 'anthropic.claude-v2'\n",
    "accept = 'application/json'\n",
    "contentType = 'application/json'\n",
    "\n",
    "response = brt.invoke_model(body=body, modelId=modelId, accept=accept, contentType=contentType)\n",
    "\n",
    "response_body = json.loads(response.get('body').read())\n",
    "\n",
    "# text\n",
    "print(response_body.get('completion'))"
   ]
  },
  {
   "cell_type": "code",
   "execution_count": 15,
   "metadata": {},
   "outputs": [
    {
     "name": "stdout",
     "output_type": "stream",
     "text": [
      "{'ResponseMetadata': {'HTTPHeaders': {'connection': 'keep-alive',\n",
      "                                      'content-length': '1472',\n",
      "                                      'content-type': 'application/json',\n",
      "                                      'date': 'Fri, 31 May 2024 00:28:56 GMT',\n",
      "                                      'x-amzn-bedrock-input-token-count': '17',\n",
      "                                      'x-amzn-bedrock-invocation-latency': '15663',\n",
      "                                      'x-amzn-bedrock-output-token-count': '300',\n",
      "                                      'x-amzn-requestid': '150ae95e-f617-478e-bb82-477e03b3b51f'},\n",
      "                      'HTTPStatusCode': 200,\n",
      "                      'RequestId': '150ae95e-f617-478e-bb82-477e03b3b51f',\n",
      "                      'RetryAttempts': 0},\n",
      " 'body': <botocore.response.StreamingBody object at 0x7b504ee0c1f0>,\n",
      " 'contentType': 'application/json'}\n"
     ]
    }
   ],
   "source": [
    "pprint(response)"
   ]
  },
  {
   "cell_type": "code",
   "execution_count": 16,
   "metadata": {},
   "outputs": [
    {
     "name": "stdout",
     "output_type": "stream",
     "text": [
      "{'completion': ' Here is a simple explanation of black holes for 8th graders:\\n'\n",
      "               '\\n'\n",
      "               '- A black hole is a region in space where gravity is so strong '\n",
      "               'that nothing can escape from it, even light. This region is '\n",
      "               'called the \"event horizon.\"\\n'\n",
      "               '\\n'\n",
      "               '- Black holes form when very massive stars collapse. When the '\n",
      "               'star runs out of nuclear fuel, gravity makes it collapse. The '\n",
      "               'matter gets compressed into a very small space, creating a '\n",
      "               'black hole. \\n'\n",
      "               '\\n'\n",
      "               '- Black holes are called \"black\" because they absorb all the '\n",
      "               \"light that hits them. They don't reflect or emit any light \"\n",
      "               'that we can detect. So they appear completely black.\\n'\n",
      "               '\\n'\n",
      "               '- The gravitational pull of black holes is so strong because '\n",
      "               'matter has been compressed into a tiny space. All of that mass '\n",
      "               'gets concentrated into a single point called the '\n",
      "               '\"singularity.\" \\n'\n",
      "               '\\n'\n",
      "               '- Not even light can escape a black hole once it crosses the '\n",
      "               'event horizon. The gravity is so intense that the escape '\n",
      "               'velocity is faster than the speed of light!\\n'\n",
      "               '\\n'\n",
      "               '- Black holes warp space and time around them. They bend light '\n",
      "               'and time due to their strong gravity. This causes bizarre '\n",
      "               'effects like time dilation.\\n'\n",
      "               '\\n'\n",
      "               '- We can detect black holes when they suck in matter from '\n",
      "               'neighboring stars and gas clouds. This material heats up and '\n",
      "               'emits X-rays that we can observe with telescopes.\\n'\n",
      "               '\\n'\n",
      "               '- Supermassive black holes are thought to exist at the center '\n",
      "               'of most galaxies, including our own Milky Way galaxy.',\n",
      " 'stop': None,\n",
      " 'stop_reason': 'max_tokens',\n",
      " 'type': 'completion'}\n"
     ]
    }
   ],
   "source": [
    "pprint(response_body)"
   ]
  }
 ],
 "metadata": {
  "kernelspec": {
   "display_name": "base",
   "language": "python",
   "name": "python3"
  },
  "language_info": {
   "codemirror_mode": {
    "name": "ipython",
    "version": 3
   },
   "file_extension": ".py",
   "mimetype": "text/x-python",
   "name": "python",
   "nbconvert_exporter": "python",
   "pygments_lexer": "ipython3",
   "version": "3.9.12"
  }
 },
 "nbformat": 4,
 "nbformat_minor": 2
}
